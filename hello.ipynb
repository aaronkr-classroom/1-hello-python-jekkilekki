{
 "cells": [
  {
   "cell_type": "markdown",
   "id": "fe76ea38",
   "metadata": {},
   "source": [
    "# Hello World~\n",
    "\n",
    "## This is Aaron.\n",
    "\n",
    "###### ML is fun!~\n",
    "\n",
    "This is a paragraph."
   ]
  },
  {
   "cell_type": "markdown",
   "id": "c8a7e915",
   "metadata": {},
   "source": [
    " Someone like *you*. _Someone_ who'll rattle the cages. Swear to me! Well, **you see**... __I'm buying__ this hotel and setting some new rules about the pool area. [Bats](https://google.com) frighten me. It's time my enemies shared my dread. I'll be standing where l belong. Between you and the peopIe of Gotham.\n",
    "\n",
    " 1. Accomplice? \n",
    " 1. I'm \n",
    " 1. gonna \n",
    " 1. tell \n",
    " \n",
    " - them \n",
    " - the \n",
    " - whole \n",
    "\n",
    " \n",
    "---\n",
    "\n",
    " * thing \n",
    " * was \n",
    " * your \n",
    " \n",
    " idea. Does it come in black? Someone like you. Someone who'll rattle the cages. I can't do that as Bruce Wayne... as a man. I'm flesh and blood. I can be ignored, destroyed. But as a symbol, I can be incorruptible, I can be everlasting.\n",
    "\n",
    " The first time I stole so that I wouldn't starve, yes. I lost many assumptions about the simple nature of right and wrong. And when I traveled I learned the fear before a crime and the thrill of success. But I never became one of them.\n",
    "\n",
    " I can't do that as Bruce Wayne... as a man. I'm flesh and blood. I can be ignored, destroyed. But as a symbol, I can be incorruptible, I can be everlasting. Bruce Wayne, eccentric billionaire. It's not who I am underneath but what I do that defines me."
   ]
  },
  {
   "cell_type": "markdown",
   "id": "17f72450",
   "metadata": {},
   "source": []
  }
 ],
 "metadata": {
  "language_info": {
   "name": "python"
  }
 },
 "nbformat": 4,
 "nbformat_minor": 5
}
